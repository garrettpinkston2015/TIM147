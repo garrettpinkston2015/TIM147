{
 "cells": [
  {
   "cell_type": "code",
   "execution_count": 152,
   "id": "6774c09a",
   "metadata": {
    "tags": []
   },
   "outputs": [],
   "source": [
    "import pandas as pd\n",
    "import os\n",
    "\n",
    "pd.options.display.max_columns = None\n"
   ]
  },
  {
   "cell_type": "code",
   "execution_count": 153,
   "id": "1965c82f-32ca-4596-a3f4-3845b602aed7",
   "metadata": {
    "tags": []
   },
   "outputs": [
    {
     "name": "stdout",
     "output_type": "stream",
     "text": [
      "<class 'pandas.core.frame.DataFrame'>\n",
      "RangeIndex: 150346 entries, 0 to 150345\n",
      "Data columns (total 15 columns):\n",
      " #   Column         Non-Null Count   Dtype  \n",
      "---  ------         --------------   -----  \n",
      " 0   business_id    150346 non-null  object \n",
      " 1   name           150346 non-null  object \n",
      " 2   address        150346 non-null  object \n",
      " 3   city           150346 non-null  object \n",
      " 4   state          150346 non-null  object \n",
      " 5   postal_code    150346 non-null  object \n",
      " 6   latitude       150346 non-null  float64\n",
      " 7   longitude      150346 non-null  float64\n",
      " 8   stars          150346 non-null  float64\n",
      " 9   review_count   150346 non-null  int64  \n",
      " 10  is_open        150346 non-null  int64  \n",
      " 11  attributes     136602 non-null  object \n",
      " 12  categories     150243 non-null  object \n",
      " 13  hours          127123 non-null  object \n",
      " 14  is_restaurant  150243 non-null  object \n",
      "dtypes: float64(3), int64(2), object(10)\n",
      "memory usage: 17.2+ MB\n"
     ]
    }
   ],
   "source": [
    "#FOR PC\n",
    "df = pd.read_json(r'C:\\Users\\Garrett Pinkston\\Desktop\\TIM147\\Project\\data\\Old\\yelp_academic_dataset_business.json',lines=True)\n",
    "\n",
    "#FOR MAC\n",
    "#df = pd.read_json('/Users/garrettpinkston/TIM147/Project/data/yelp_academic_dataset_business.json',lines=True)\n",
    "\n",
    "#CHECK RESTAURANT, DROP IF NOT\n",
    "df['categories'] = df['categories'].str.split(\", \").tolist()\n",
    "def checkRestaurant(categories_list):\n",
    "    if categories_list is not None:\n",
    "        if 'Restaurants' in categories_list:\n",
    "            return True\n",
    "        else:\n",
    "            return False\n",
    "\n",
    "df['is_restaurant'] = df['categories'].apply(checkRestaurant)\n",
    "\n",
    "df.info()\n"
   ]
  },
  {
   "cell_type": "code",
   "execution_count": 154,
   "id": "48cb0222",
   "metadata": {
    "tags": []
   },
   "outputs": [],
   "source": [
    "df = df[df['is_restaurant']==True]"
   ]
  },
  {
   "cell_type": "code",
   "execution_count": 155,
   "id": "a92e3477-6d26-46ff-87d1-81b76f49e3de",
   "metadata": {
    "tags": []
   },
   "outputs": [
    {
     "name": "stdout",
     "output_type": "stream",
     "text": [
      "<class 'pandas.core.frame.DataFrame'>\n",
      "Index: 52268 entries, 3 to 150340\n",
      "Data columns (total 15 columns):\n",
      " #   Column         Non-Null Count  Dtype  \n",
      "---  ------         --------------  -----  \n",
      " 0   business_id    52268 non-null  object \n",
      " 1   name           52268 non-null  object \n",
      " 2   address        52268 non-null  object \n",
      " 3   city           52268 non-null  object \n",
      " 4   state          52268 non-null  object \n",
      " 5   postal_code    52268 non-null  object \n",
      " 6   latitude       52268 non-null  float64\n",
      " 7   longitude      52268 non-null  float64\n",
      " 8   stars          52268 non-null  float64\n",
      " 9   review_count   52268 non-null  int64  \n",
      " 10  is_open        52268 non-null  int64  \n",
      " 11  attributes     51703 non-null  object \n",
      " 12  categories     52268 non-null  object \n",
      " 13  hours          44990 non-null  object \n",
      " 14  is_restaurant  52268 non-null  object \n",
      "dtypes: float64(3), int64(2), object(10)\n",
      "memory usage: 6.4+ MB\n"
     ]
    }
   ],
   "source": [
    "df.info()\n"
   ]
  },
  {
   "cell_type": "code",
   "execution_count": null,
   "id": "886d21a1-683d-4d0b-b318-9324fda92413",
   "metadata": {},
   "outputs": [],
   "source": []
  }
 ],
 "metadata": {
  "kernelspec": {
   "display_name": "Python 3 (ipykernel)",
   "language": "python",
   "name": "python3"
  },
  "language_info": {
   "codemirror_mode": {
    "name": "ipython",
    "version": 3
   },
   "file_extension": ".py",
   "mimetype": "text/x-python",
   "name": "python",
   "nbconvert_exporter": "python",
   "pygments_lexer": "ipython3",
   "version": "3.11.5"
  }
 },
 "nbformat": 4,
 "nbformat_minor": 5
}
