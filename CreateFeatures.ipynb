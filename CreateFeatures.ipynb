{
 "cells": [
  {
   "cell_type": "code",
   "execution_count": null,
   "id": "1b85e351-c6fe-4b2f-affb-858f1fcd14ab",
   "metadata": {},
   "outputs": [],
   "source": [
    "# Merge features from various datasets, including creating new ones."
   ]
  },
  {
   "cell_type": "code",
   "execution_count": 9,
   "id": "d310f7e9-5b14-4fb4-8ef1-0dd1505db1a4",
   "metadata": {},
   "outputs": [],
   "source": [
    "# Merge yelp business dataset with population & population density from simple maps dataset\n",
    "\n",
    "import pandas as pd\n",
    "\n",
    "yelpBus_df = pd.read_json('/Users/james/TIM147/yelp_dataset/yelp_academic_dataset_business.json',lines=True) # Import yelp business data\n",
    "simple_df = pd.read_csv('/Users/james/Tim147/simplemaps_uszips_basicv1/uszips.csv',) # Import simple maps data\n",
    "income_df = pd.read_csv('/Users/james/Tim147/income_dataset/kaggle_income.csv', encoding='iso-8859-1 ',)"
   ]
  },
  {
   "cell_type": "code",
   "execution_count": null,
   "id": "434c2726-9f5f-471e-966a-0b163110f8a4",
   "metadata": {},
   "outputs": [],
   "source": []
  },
  {
   "cell_type": "code",
   "execution_count": 3,
   "id": "a09409e7-45ad-413c-b20f-0e1d1990b45f",
   "metadata": {},
   "outputs": [],
   "source": [
    "yelpBus_df['postal_code'] = pd.to_numeric(yelpBus_df['postal_code'], errors='coerce') # Convert postal code from object to float64\n",
    "yelpBus_df['postal_code'] = yelpBus_df['postal_code'].astype('Int64') # Convert postal code from float64 to Int64, with capital I so that it works with nan values"
   ]
  },
  {
   "cell_type": "code",
   "execution_count": 4,
   "id": "e965c9a5-c252-46b3-bf5e-23f9336510bb",
   "metadata": {},
   "outputs": [],
   "source": [
    "simple_df = simple_df[['zip','population','density']]\n",
    "simple_df = simple_df.rename(columns = {'zip': 'postal_code', 'density': 'pop_density'})"
   ]
  },
  {
   "cell_type": "code",
   "execution_count": 6,
   "id": "02b0c942-4495-4ab8-ae99-e54cdfdfb006",
   "metadata": {},
   "outputs": [],
   "source": [
    "merged_df = pd.merge(yelpBus_df, simple_df, on='postal_code', how='left') # Merge "
   ]
  },
  {
   "cell_type": "code",
   "execution_count": null,
   "id": "d5b21824-a836-4c67-a8f6-dc4b8dbefb2e",
   "metadata": {},
   "outputs": [],
   "source": []
  },
  {
   "cell_type": "code",
   "execution_count": 10,
   "id": "8c80e705-aea2-4950-9c0c-ab89fc238d7d",
   "metadata": {},
   "outputs": [],
   "source": [
    "# Merge income on nearest latitude & longitude\n",
    "\n",
    "import geopandas as gpd\n",
    "from geopandas.tools import sjoin_nearest # Spatial join\n",
    "from shapely.geometry import Point # \n",
    "\n",
    "income_df = income_df[['Lat','Lon','Median']]\n",
    "income_df = income_df.rename(columns = {'Median': 'median_income'})"
   ]
  },
  {
   "cell_type": "code",
   "execution_count": 11,
   "id": "a17f72c0-400a-4ddb-a8ab-4eca4d3282a6",
   "metadata": {},
   "outputs": [],
   "source": [
    "left_geo = [Point(xy) for xy in zip(merged_df['latitude'],merged_df['longitude'])]\n",
    "right_geo = [Point(xy) for xy in zip(income_df['Lat'],income_df['Lon'])]"
   ]
  },
  {
   "cell_type": "code",
   "execution_count": 12,
   "id": "d5251d95-b58a-43d4-9b53-337703443090",
   "metadata": {},
   "outputs": [],
   "source": [
    "merged_gdf = gpd.GeoDataFrame(merged_df, geometry=left_geo)\n",
    "income_gdf = gpd.GeoDataFrame(income_df, geometry=right_geo)"
   ]
  },
  {
   "cell_type": "code",
   "execution_count": 13,
   "id": "2161a2c3-a03a-4bbd-8119-d2220e4c5beb",
   "metadata": {},
   "outputs": [],
   "source": [
    "sjoined_gdf = sjoin_nearest(merged_gdf, income_gdf, how='left')"
   ]
  },
  {
   "cell_type": "code",
   "execution_count": 14,
   "id": "ee24e6e6-22e7-4d66-83cf-f4b2bc465031",
   "metadata": {},
   "outputs": [],
   "source": [
    "sjoined_df = sjoined_gdf.drop(['geometry','index_right','Lat','Lon'], axis=1)"
   ]
  },
  {
   "cell_type": "code",
   "execution_count": 18,
   "id": "33e7764d-02d5-4199-bf3b-7b4b440d3550",
   "metadata": {},
   "outputs": [],
   "source": [
    "sjoined_df.to_csv('yelp_business_plus.csv')"
   ]
  },
  {
   "cell_type": "code",
   "execution_count": null,
   "id": "623330a8-bde6-447d-86b5-4dbd56bfe40f",
   "metadata": {},
   "outputs": [],
   "source": []
  }
 ],
 "metadata": {
  "kernelspec": {
   "display_name": "Python 3 (ipykernel)",
   "language": "python",
   "name": "python3"
  },
  "language_info": {
   "codemirror_mode": {
    "name": "ipython",
    "version": 3
   },
   "file_extension": ".py",
   "mimetype": "text/x-python",
   "name": "python",
   "nbconvert_exporter": "python",
   "pygments_lexer": "ipython3",
   "version": "3.11.5"
  }
 },
 "nbformat": 4,
 "nbformat_minor": 5
}
